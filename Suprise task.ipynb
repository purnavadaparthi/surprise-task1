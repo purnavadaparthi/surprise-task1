{
 "cells": [
  {
   "cell_type": "markdown",
   "id": "aa0a5741",
   "metadata": {},
   "source": [
    "# List Comprehension:\n",
    "* Easy: Create a list comprehension that generates a list of squares of numbers from 1 to 10.\n",
    "* Output: [1, 4, 9, 16, 25, 36, 49, 64, 81, 100]\n"
   ]
  },
  {
   "cell_type": "code",
   "execution_count": 4,
   "id": "7cc557ec",
   "metadata": {},
   "outputs": [
    {
     "data": {
      "text/plain": [
       "[0, 1, 4, 9, 16, 25, 36, 49, 64, 81, 100]"
      ]
     },
     "execution_count": 4,
     "metadata": {},
     "output_type": "execute_result"
    }
   ],
   "source": [
    "a=[ele**2 for ele in range(0,11)]\n",
    "a"
   ]
  },
  {
   "cell_type": "markdown",
   "id": "dd55d353",
   "metadata": {},
   "source": [
    "#2 Medium: Given a list of words, create a list comprehension to filter out words that are longer than 5 characters.\n",
    "Input: ['apple', 'banana', 'cherry', 'date', 'elderberry']\n",
    "Output: ['apple', 'cherry', 'date']\n",
    "\n"
   ]
  },
  {
   "cell_type": "code",
   "execution_count": 20,
   "id": "b0041707",
   "metadata": {},
   "outputs": [
    {
     "name": "stdout",
     "output_type": "stream",
     "text": [
      "['apple', 'date']\n"
     ]
    }
   ],
   "source": [
    "a=['apple','banana','cherry','date','elderberry']\n",
    "b=[ele for ele in a if len(ele)<=5]\n",
    "print(b)\n"
   ]
  },
  {
   "cell_type": "markdown",
   "id": "19a3115e",
   "metadata": {},
   "source": [
    "# Lists:\n",
    "Easy: 3 Create a list containing the numbers 1 to 5 and then append the number 6 to it.\n",
    "Output: [1, 2, 3, 4, 5, 6]\n"
   ]
  },
  {
   "cell_type": "code",
   "execution_count": 41,
   "id": "04c106c6",
   "metadata": {},
   "outputs": [
    {
     "data": {
      "text/plain": [
       "[1, 2, 3, 4, 5, 6]"
      ]
     },
     "execution_count": 41,
     "metadata": {},
     "output_type": "execute_result"
    }
   ],
   "source": [
    "x = [ele for ele in range(1,6)]\n",
    "x.append(6)\n",
    "x\n",
    "    "
   ]
  },
  {
   "cell_type": "markdown",
   "id": "add3ba72",
   "metadata": {},
   "source": [
    " #4 Medium: Given two lists, merge them into a single list without duplicates.\n",
    "Input:\n",
    "List 1: [1, 2, 3, 4]\n",
    "List 2: [3, 4, 5, 6]\n",
    "Output: [1, 2, 3, 4, 5, 6]"
   ]
  },
  {
   "cell_type": "code",
   "execution_count": 6,
   "id": "f2e73756",
   "metadata": {},
   "outputs": [
    {
     "data": {
      "text/plain": [
       "[1, 2, 3, 4, 5, 6]"
      ]
     },
     "execution_count": 6,
     "metadata": {},
     "output_type": "execute_result"
    }
   ],
   "source": [
    "list1=[1,2,3,4]\n",
    "list2=[3,4,5,6]\n",
    "list3=list(set(list1+list2))\n",
    "list3\n",
    "\n"
   ]
  },
  {
   "cell_type": "markdown",
   "id": "94b6ff2c",
   "metadata": {},
   "source": [
    "# Map:\n",
    "Easy: 5 Use the map function to double each element in a list.\n",
    "Input: [1, 2, 3, 4, 5]\n",
    "Output: [2, 4, 6, 8, 10]\n",
    "\n"
   ]
  },
  {
   "cell_type": "code",
   "execution_count": 33,
   "id": "82b34b16",
   "metadata": {},
   "outputs": [
    {
     "name": "stdout",
     "output_type": "stream",
     "text": [
      "<map object at 0x00000211A3170100>\n"
     ]
    },
    {
     "data": {
      "text/plain": [
       "[2, 4, 6, 8, 10]"
      ]
     },
     "execution_count": 33,
     "metadata": {},
     "output_type": "execute_result"
    }
   ],
   "source": [
    "a=lambda x:x*2\n",
    "\n",
    "b=map(a, range(1,6))\n",
    "print(b)\n",
    "list(b)"
   ]
  },
  {
   "cell_type": "markdown",
   "id": "11adb0d4",
   "metadata": {},
   "source": [
    "# Medium: 6 Use the map function to convert a list of strings to uppercase.\n",
    "\n",
    "Input: ['apple', 'banana', 'cherry']\n",
    "\n",
    "Output: ['APPLE', 'BANANA', 'CHERRY']"
   ]
  },
  {
   "cell_type": "code",
   "execution_count": 40,
   "id": "bf0e4e29",
   "metadata": {},
   "outputs": [
    {
     "data": {
      "text/plain": [
       "['APPLE', 'BANANA', 'CHERRY']"
      ]
     },
     "execution_count": 40,
     "metadata": {},
     "output_type": "execute_result"
    }
   ],
   "source": [
    "a=('apple','banana','cherry')\n",
    "b=lambda a:a.upper()\n",
    "c=list(map(b,a))\n",
    "c\n"
   ]
  },
  {
   "cell_type": "markdown",
   "id": "5cf1a200",
   "metadata": {},
   "source": [
    "# Easy:7 Use the filter function to get all even numbers from a list.\n",
    "\n",
    "Input: [1, 2, 3, 4, 5, 6]\n",
    "\n",
    "Output: [2, 4, 6]"
   ]
  },
  {
   "cell_type": "code",
   "execution_count": 44,
   "id": "c11c4e7b",
   "metadata": {},
   "outputs": [
    {
     "data": {
      "text/plain": [
       "[2, 4, 6]"
      ]
     },
     "execution_count": 44,
     "metadata": {},
     "output_type": "execute_result"
    }
   ],
   "source": [
    "x = [1,2,3,4,5,6]\n",
    "y = lambda x: True if x%2 ==0 else False\n",
    "z = list(filter(y, x))\n",
    "z"
   ]
  },
  {
   "cell_type": "markdown",
   "id": "fb4d2b65",
   "metadata": {},
   "source": [
    "# Medium: 8 Use the filter function to get all words from a list that start with the letter 'b'.\n",
    "Input: ['apple', 'banana', 'cherry', 'blueberry', 'date']\n",
    "Output: ['banana', 'blueberry']"
   ]
  },
  {
   "cell_type": "code",
   "execution_count": 1,
   "id": "78c5b62e",
   "metadata": {},
   "outputs": [
    {
     "data": {
      "text/plain": [
       "['banana', 'blueberry']"
      ]
     },
     "execution_count": 1,
     "metadata": {},
     "output_type": "execute_result"
    }
   ],
   "source": [
    "x = ['apple', 'banana', 'cherry', 'blueberry', 'date']\n",
    "y = lambda x: True if x.startswith('b') else False\n",
    "z = list(filter(y, x))\n",
    "z"
   ]
  },
  {
   "cell_type": "markdown",
   "id": "fcb732d7",
   "metadata": {},
   "source": [
    "# Easy:9 Write a function called add that takes two numbers as input and returns their sum.\n",
    "\n",
    "Input: add(3, 4)\n",
    "\n",
    "Output: 7"
   ]
  },
  {
   "cell_type": "code",
   "execution_count": 6,
   "id": "c55eb407",
   "metadata": {},
   "outputs": [
    {
     "name": "stdout",
     "output_type": "stream",
     "text": [
      "7\n"
     ]
    }
   ],
   "source": [
    "def foo(a,b):\n",
    "    print(a+b)\n",
    "foo(3,4)\n",
    "    \n"
   ]
  },
  {
   "cell_type": "markdown",
   "id": "d2dfe4b1",
   "metadata": {},
   "source": [
    "# Medium: Write a function called calculate_average that takes a list of numbers as input and returns the average (mean) of those numbers.\n",
    "\n",
    "Input: calculate_average([1, 2, 3, 4, 5])\n",
    "\n",
    "Output: 3.0"
   ]
  },
  {
   "cell_type": "code",
   "execution_count": 8,
   "id": "79587806",
   "metadata": {},
   "outputs": [
    {
     "name": "stdout",
     "output_type": "stream",
     "text": [
      "3.0\n"
     ]
    }
   ],
   "source": [
    "def total_average(x):\n",
    "    print (sum(x)/len(x))\n",
    "total_average([1, 2, 3, 4, 5])"
   ]
  },
  {
   "cell_type": "code",
   "execution_count": null,
   "id": "6653f7f4",
   "metadata": {},
   "outputs": [],
   "source": []
  }
 ],
 "metadata": {
  "kernelspec": {
   "display_name": "Python 3 (ipykernel)",
   "language": "python",
   "name": "python3"
  },
  "language_info": {
   "codemirror_mode": {
    "name": "ipython",
    "version": 3
   },
   "file_extension": ".py",
   "mimetype": "text/x-python",
   "name": "python",
   "nbconvert_exporter": "python",
   "pygments_lexer": "ipython3",
   "version": "3.11.3"
  }
 },
 "nbformat": 4,
 "nbformat_minor": 5
}
